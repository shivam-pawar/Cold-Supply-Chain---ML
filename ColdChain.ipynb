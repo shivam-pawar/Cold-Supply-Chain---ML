{
 "cells": [
  {
   "cell_type": "code",
   "execution_count": 106,
   "metadata": {},
   "outputs": [],
   "source": [
    "import pandas as pd\n",
    "import numpy as np\n",
    "from sklearn.model_selection import train_test_split\n",
    "from sklearn.tree import DecisionTreeClassifier\n",
    "from sklearn.metrics import accuracy_score,classification_report,mean_squared_error,confusion_matrix\n",
    "from sklearn.tree import DecisionTreeClassifier,export_graphviz\n",
    "import pydotplus\n",
    "from IPython.display import Image\n",
    "from sklearn.externals.six import StringIO\n",
    "from sklearn.ensemble import RandomForestClassifier\n",
    "from sklearn.svm import SVC\n",
    "from matplotlib import pyplot as plt\n",
    "import time\n",
    "import matplotlib.gridspec as gridspec\n",
    "import matplotlib.pylab as pl"
   ]
  },
  {
   "cell_type": "code",
   "execution_count": 3,
   "metadata": {},
   "outputs": [],
   "source": [
    "dataset = pd.read_csv(\"/home/auspicious/Downloads/temp1.csv\")"
   ]
  },
  {
   "cell_type": "code",
   "execution_count": 4,
   "metadata": {},
   "outputs": [],
   "source": [
    "x = dataset.iloc[:,[0,1,2,3,4,5,6,7,8,9]].values\n",
    "y = dataset.iloc[:,[10]].values"
   ]
  },
  {
   "cell_type": "code",
   "execution_count": 5,
   "metadata": {},
   "outputs": [],
   "source": [
    "x_train,x_test,y_train,y_test = train_test_split(x,y,test_size=0.33,random_state=0)"
   ]
  },
  {
   "cell_type": "code",
   "execution_count": 6,
   "metadata": {},
   "outputs": [],
   "source": [
    "DT = DecisionTreeClassifier(random_state=0)\n",
    "RF = RandomForestClassifier()\n",
    "SV = SVC(kernel='linear')"
   ]
  },
  {
   "cell_type": "code",
   "execution_count": 7,
   "metadata": {},
   "outputs": [],
   "source": [
    "dtstart = time.time()\n",
    "DT.fit(x_train,y_train)\n",
    "dtend = time.time()"
   ]
  },
  {
   "cell_type": "code",
   "execution_count": 8,
   "metadata": {},
   "outputs": [
    {
     "name": "stderr",
     "output_type": "stream",
     "text": [
      "/usr/local/lib/python3.6/dist-packages/sklearn/ensemble/forest.py:245: FutureWarning: The default value of n_estimators will change from 10 in version 0.20 to 100 in 0.22.\n",
      "  \"10 in version 0.20 to 100 in 0.22.\", FutureWarning)\n",
      "/usr/local/lib/python3.6/dist-packages/ipykernel_launcher.py:2: DataConversionWarning: A column-vector y was passed when a 1d array was expected. Please change the shape of y to (n_samples,), for example using ravel().\n",
      "  \n"
     ]
    }
   ],
   "source": [
    "rfstart = time.time()\n",
    "RF.fit(x_train,y_train)\n",
    "rfend = time.time()"
   ]
  },
  {
   "cell_type": "code",
   "execution_count": 9,
   "metadata": {},
   "outputs": [
    {
     "name": "stderr",
     "output_type": "stream",
     "text": [
      "/usr/local/lib/python3.6/dist-packages/sklearn/utils/validation.py:724: DataConversionWarning: A column-vector y was passed when a 1d array was expected. Please change the shape of y to (n_samples, ), for example using ravel().\n",
      "  y = column_or_1d(y, warn=True)\n"
     ]
    }
   ],
   "source": [
    "svstart = time.time()\n",
    "SV.fit(x_train,y_train)\n",
    "svend = time.time()"
   ]
  },
  {
   "cell_type": "code",
   "execution_count": 10,
   "metadata": {},
   "outputs": [],
   "source": [
    "y_dt = DT.predict(x_test)"
   ]
  },
  {
   "cell_type": "code",
   "execution_count": 11,
   "metadata": {},
   "outputs": [],
   "source": [
    "y_rf = RF.predict(x_test)"
   ]
  },
  {
   "cell_type": "code",
   "execution_count": 12,
   "metadata": {},
   "outputs": [],
   "source": [
    "y_sv = SV.predict(x_test)"
   ]
  },
  {
   "cell_type": "code",
   "execution_count": 13,
   "metadata": {},
   "outputs": [],
   "source": [
    "acc_dt = accuracy_score(y_test,y_dt)*100"
   ]
  },
  {
   "cell_type": "code",
   "execution_count": 14,
   "metadata": {},
   "outputs": [],
   "source": [
    "acc_rf = accuracy_score(y_test,y_rf)*100"
   ]
  },
  {
   "cell_type": "code",
   "execution_count": 15,
   "metadata": {},
   "outputs": [],
   "source": [
    "acc_sv = accuracy_score(y_test,y_sv)*100"
   ]
  },
  {
   "cell_type": "code",
   "execution_count": 16,
   "metadata": {},
   "outputs": [
    {
     "data": {
      "text/plain": [
       "100.0"
      ]
     },
     "execution_count": 16,
     "metadata": {},
     "output_type": "execute_result"
    }
   ],
   "source": [
    "acc_sv"
   ]
  },
  {
   "cell_type": "code",
   "execution_count": 17,
   "metadata": {},
   "outputs": [],
   "source": [
    "algo = ['DT','RF','SVM']"
   ]
  },
  {
   "cell_type": "code",
   "execution_count": 18,
   "metadata": {},
   "outputs": [],
   "source": [
    "accu = [acc_dt,acc_rf,acc_sv]"
   ]
  },
  {
   "cell_type": "code",
   "execution_count": 19,
   "metadata": {},
   "outputs": [
    {
     "data": {
      "text/plain": [
       "array([[ 5,  0,  0,  0],\n",
       "       [ 0,  4,  0,  0],\n",
       "       [ 0,  0,  7,  0],\n",
       "       [ 0,  0,  0, 11]])"
      ]
     },
     "execution_count": 19,
     "metadata": {},
     "output_type": "execute_result"
    }
   ],
   "source": [
    "confusion_matrix(y_sv,y_test)"
   ]
  },
  {
   "cell_type": "code",
   "execution_count": 20,
   "metadata": {},
   "outputs": [
    {
     "data": {
      "text/plain": [
       "<BarContainer object of 3 artists>"
      ]
     },
     "execution_count": 20,
     "metadata": {},
     "output_type": "execute_result"
    },
    {
     "data": {
      "image/png": "[encoded data removed]",
      "text/plain": [
       "<Figure size 432x288 with 1 Axes>"
      ]
     },
     "metadata": {
      "needs_background": "light"
     },
     "output_type": "display_data"
    }
   ],
   "source": [
    "# plt.title(\"Algorith vs Accuracy\")\n",
    "# plt.xlabel(\"Algorith\")\n",
    "# plt.ylabel(\"Accuracy\")\n",
    "# plt.bar(algo,accu)"
   ]
  },
  {
   "cell_type": "code",
   "execution_count": 21,
   "metadata": {},
   "outputs": [],
   "source": [
    "dttime = dtend-dtstart\n",
    "rftime = rfend-rfstart\n",
    "svtime = svend-svstart"
   ]
  },
  {
   "cell_type": "code",
   "execution_count": 22,
   "metadata": {},
   "outputs": [],
   "source": [
    "algotime = [dttime,rftime,svtime]"
   ]
  },
  {
   "cell_type": "code",
   "execution_count": 23,
   "metadata": {},
   "outputs": [
    {
     "data": {
      "image/png": "[encoded data removed]",
      "text/plain": [
       "<Figure size 432x288 with 1 Axes>"
      ]
     },
     "metadata": {
      "needs_background": "light"
     },
     "output_type": "display_data"
    }
   ],
   "source": [
    "# plt.title(\"Time vs Accuracy\")\n",
    "# plt.scatter(dttime,acc_dt,color='r',label = 'DT')\n",
    "# plt.scatter(rftime,acc_rf,color='b',label = 'RF')\n",
    "# plt.scatter(svtime,acc_sv,color='g',label = 'SVM')\n",
    "# plt.legend()\n",
    "# plt.show()"
   ]
  },
  {
   "cell_type": "code",
   "execution_count": 24,
   "metadata": {},
   "outputs": [
    {
     "data": {
      "text/plain": [
       "0.07291245460510254"
      ]
     },
     "execution_count": 24,
     "metadata": {},
     "output_type": "execute_result"
    }
   ],
   "source": [
    "dttime"
   ]
  },
  {
   "cell_type": "code",
   "execution_count": 25,
   "metadata": {},
   "outputs": [
    {
     "data": {
      "text/plain": [
       "0.15064644813537598"
      ]
     },
     "execution_count": 25,
     "metadata": {},
     "output_type": "execute_result"
    }
   ],
   "source": [
    "rftime"
   ]
  },
  {
   "cell_type": "code",
   "execution_count": 26,
   "metadata": {},
   "outputs": [
    {
     "data": {
      "text/plain": [
       "0.02596569061279297"
      ]
     },
     "execution_count": 26,
     "metadata": {},
     "output_type": "execute_result"
    }
   ],
   "source": [
    "svtime"
   ]
  },
  {
   "cell_type": "code",
   "execution_count": 28,
   "metadata": {},
   "outputs": [],
   "source": [
    "feature = dataset.columns[:9].values"
   ]
  },
  {
   "cell_type": "code",
   "execution_count": 29,
   "metadata": {},
   "outputs": [
    {
     "name": "stdout",
     "output_type": "stream",
     "text": [
      "['min1' 'min2' 'min3' 'min4' 'min5' 'min6' 'min7' 'min8' 'min9']\n"
     ]
    }
   ],
   "source": [
    "print(feature)"
   ]
  },
  {
   "cell_type": "code",
   "execution_count": 30,
   "metadata": {},
   "outputs": [
    {
     "data": {
      "text/plain": [
       "array([[10, 10, 10, 10, 10, 10, 10, 10, 11, 11],\n",
       "       [ 9,  9, 10, 10, 10, 11, 11, 11, 11, 12],\n",
       "       [10, 11, 11, 11, 11, 11, 11, 11, 11, 11],\n",
       "       [ 8,  8,  8,  8,  8,  8,  8,  8,  9,  9],\n",
       "       [10, 10, 10, 10, 11, 11, 11, 11, 11, 12],\n",
       "       [11, 11, 11, 11, 11, 11, 11, 11, 11, 12],\n",
       "       [ 9,  9,  9, 10, 10, 10, 11, 11, 11, 12],\n",
       "       [ 9,  9, 10, 10, 10, 10, 11, 11, 11, 12],\n",
       "       [10, 10, 10, 10, 10, 10, 10, 10, 11, 11],\n",
       "       [10, 10, 10, 10, 11, 11, 12, 12, 12, 12],\n",
       "       [ 9,  9,  9, 10, 10, 11, 11, 11, 11, 12],\n",
       "       [ 9, 10, 10, 10, 10, 10, 11, 11, 11, 11],\n",
       "       [10, 11, 11, 11, 11, 11, 11, 11, 11, 11],\n",
       "       [10, 10, 10, 10, 11, 11, 11, 11, 11, 12],\n",
       "       [ 8,  8,  8,  8,  8,  8,  8,  8,  9,  9],\n",
       "       [ 9,  9, 10, 10, 10, 10, 11, 11, 12, 12],\n",
       "       [10, 11, 11, 11, 11, 11, 11, 11, 11, 11],\n",
       "       [10, 10, 10, 10, 11, 11, 11, 11, 12, 12],\n",
       "       [ 9,  9, 10, 10, 10, 10, 11, 11, 11, 12],\n",
       "       [ 9,  9,  9, 10, 10, 10, 11, 11, 11, 11],\n",
       "       [11, 11, 11, 11, 11, 11, 11, 11, 11, 11],\n",
       "       [11, 11, 11, 11, 11, 11, 11, 11, 11, 11],\n",
       "       [ 9,  9, 10, 10, 10, 10, 11, 11, 11, 12],\n",
       "       [10, 10, 10, 10, 11, 11, 11, 11, 11, 12],\n",
       "       [ 8,  8,  8,  8,  8,  8,  8,  8,  9,  9],\n",
       "       [10, 10, 10, 10, 11, 11, 11, 11, 11, 12],\n",
       "       [10, 10, 10, 10, 11, 11, 11, 11, 12, 12]])"
      ]
     },
     "execution_count": 30,
     "metadata": {},
     "output_type": "execute_result"
    }
   ],
   "source": [
    "x_test"
   ]
  },
  {
   "cell_type": "code",
   "execution_count": 39,
   "metadata": {},
   "outputs": [],
   "source": [
    "timespam = ['15','30','45','60','75','90','105','120','135','150']"
   ]
  },
  {
   "cell_type": "code",
   "execution_count": 93,
   "metadata": {},
   "outputs": [],
   "source": [
    "temp = dataset.iloc[0,:10]"
   ]
  },
  {
   "cell_type": "code",
   "execution_count": 94,
   "metadata": {},
   "outputs": [
    {
     "data": {
      "text/plain": [
       "[8, 8, 8, 8, 8, 8, 8, 8, 8, 9]"
      ]
     },
     "execution_count": 94,
     "metadata": {},
     "output_type": "execute_result"
    }
   ],
   "source": [
    "list(temp)"
   ]
  },
  {
   "cell_type": "code",
   "execution_count": 95,
   "metadata": {},
   "outputs": [
    {
     "data": {
      "text/plain": [
       "[<matplotlib.lines.Line2D at 0x7f27f6fe2b70>]"
      ]
     },
     "execution_count": 95,
     "metadata": {},
     "output_type": "execute_result"
    },
    {
     "data": {
      "image/png": "[encoded data removed]",
      "text/plain": [
       "<Figure size 432x288 with 1 Axes>"
      ]
     },
     "metadata": {
      "needs_background": "light"
     },
     "output_type": "display_data"
    }
   ],
   "source": [
    "#plt.plot(timespam,temp)"
   ]
  },
  {
   "cell_type": "code",
   "execution_count": 108,
   "metadata": {},
   "outputs": [
    {
     "data": {
      "image/png": "[encoded data removed]",
      "text/plain": [
       "<Figure size 432x288 with 1 Axes>"
      ]
     },
     "metadata": {
      "needs_background": "light"
     },
     "output_type": "display_data"
    },
    {
     "data": {
      "image/png": "[encoded data removed]",
      "text/plain": [
       "<Figure size 432x288 with 1 Axes>"
      ]
     },
     "metadata": {
      "needs_background": "light"
     },
     "output_type": "display_data"
    },
    {
     "data": {
      "image/png": "[encoded data removed]",
      "text/plain": [
       "<Figure size 432x288 with 1 Axes>"
      ]
     },
     "metadata": {
      "needs_background": "light"
     },
     "output_type": "display_data"
    }
   ],
   "source": [
    "gs = gridspec.GridSpec(2,2)\n",
    "pl.figure()\n",
    "\n",
    "ax = pl.subplot(gs[0, 0])\n",
    "pl.title(\"Time vs Accuracy\")\n",
    "pl.scatter(dttime,acc_dt,color='r',label = 'DT')\n",
    "pl.scatter(rftime,acc_rf,color='b',label = 'RF')\n",
    "pl.scatter(svtime,acc_sv,color='g',label = 'SVM')\n",
    "pl.legend()\n",
    "pl.show()\n",
    "\n",
    "ax = pl.subplot(gs[0, 1])\n",
    "pl.title(\"Time Vs. Temperature\")\n",
    "pl.plot(timespam,temp)\n",
    "pl.show()\n",
    "\n",
    "ax = pl.subplot(gs[1, :])\n",
    "pl.title(\"Algorith vs Accuracy\")\n",
    "pl.xlabel(\"Algorith\")\n",
    "pl.ylabel(\"Accuracy\")\n",
    "pl.bar(algo,accu)\n",
    "pl.show()"
   ]
  },
  {
   "cell_type": "code",
   "execution_count": null,
   "metadata": {},
   "outputs": [],
   "source": []
  }
 ],
 "metadata": {
  "kernelspec": {
   "display_name": "Python 3",
   "language": "python",
   "name": "python3"
  },
  "language_info": {
   "codemirror_mode": {
    "name": "ipython",
    "version": 3
   },
   "file_extension": ".py",
   "mimetype": "text/x-python",
   "name": "python",
   "nbconvert_exporter": "python",
   "pygments_lexer": "ipython3",
   "version": "3.6.7"
  }
 },
 "nbformat": 4,
 "nbformat_minor": 2
}
